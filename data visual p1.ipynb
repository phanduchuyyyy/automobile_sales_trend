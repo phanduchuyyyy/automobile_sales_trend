{
  "metadata": {
    "language_info": {
      "codemirror_mode": {
        "name": "python",
        "version": 3
      },
      "file_extension": ".py",
      "mimetype": "text/x-python",
      "name": "python",
      "nbconvert_exporter": "python",
      "pygments_lexer": "ipython3",
      "version": "3.8"
    },
    "kernelspec": {
      "name": "python",
      "display_name": "Python (Pyodide)",
      "language": "python"
    }
  },
  "nbformat_minor": 4,
  "nbformat": 4,
  "cells": [
    {
      "cell_type": "markdown",
      "source": "<p style=\"text-align:center\">\n    <a href=\"https://skills.network\" target=\"_blank\">\n    <img src=\"https://cf-courses-data.s3.us.cloud-object-storage.appdomain.cloud/assets/logos/SN_web_lightmode.png\" width=\"200\" alt=\"Skills Network Logo\">\n    </a>\n</p>\n",
      "metadata": {}
    },
    {
      "cell_type": "markdown",
      "source": "# **Create visualizations using Matplotib, Seaborn and Folium** \n\nEstimated time needed: **40** minutes\n\nIn this assignment, you will have the opportunity to demonstrate the skills you have acquired in creating visualizations using *Matplotlib, Seaborn, Folium*.\n<br>\n<br>\n<span style=\"color:red\">After each task you will be required to save your plots as an image or screenshot using the filenames specified.  You will be uploading these images during your final project submission so they can be evaluated by your peers. </span>\n",
      "metadata": {}
    },
    {
      "cell_type": "markdown",
      "source": "# __Table of Contents__\n\n<ol>\n    <li><a href=\"#Objectives\">Objectives</a></li>\n    <li>\n        <a href=\"#Setup\">Setup</a>\n        <ol>\n            <li><a href=\"#Installing-Required-Libraries\">Installing Required Libraries</a></li>\n            <li><a href=\"#Importing-Required-Libraries\">Importing Required Libraries</a></li>\n            </ol>\n    </li>\n    <li>\n        <a href=\"#Scenario\">Scenario</a>\n        <ol>\n            <li><a href=\"#Data Description\">Data Description</a></li>\n        </ol>\n    </li>\n    <li><a href=\"#Importing Data\">Importing data</a></li>\n    <li><a href=\"#Creating Visualizations for Data Analysis\">Creating Visualizations for Data Analysis</a></li>\n</ol>\n",
      "metadata": {}
    },
    {
      "cell_type": "markdown",
      "source": "# Objectives\n\nAfter completing this lab you will be able to:\n\n- Create informative and visually appealing plots with Matplotlib and Seaborn.\n- Apply visualization to communicate insights from the data.\n- Analyze data through using visualizations.\n- Customize visualizations\n",
      "metadata": {}
    },
    {
      "cell_type": "markdown",
      "source": "# Setup\n",
      "metadata": {}
    },
    {
      "cell_type": "markdown",
      "source": "For this lab, we will be using the following libraries:\n\n*   [`pandas`](https://pandas.pydata.org/?utm_medium=Exinfluencer&utm_source=Exinfluencer&utm_content=000026UJ&utm_term=10006555&utm_id=NA-SkillsNetwork-Channel-SkillsNetworkCoursesIBMML0187ENSkillsNetwork31430127-2021-01-01) for managing the data.\n*   [`numpy`](https://numpy.org/?utm_medium=Exinfluencer&utm_source=Exinfluencer&utm_content=000026UJ&utm_term=10006555&utm_id=NA-SkillsNetwork-Channel-SkillsNetworkCoursesIBMML0187ENSkillsNetwork31430127-2021-01-01) for mathematical operations.\n*   [`matplotlib`](https://matplotlib.org/?utm_medium=Exinfluencer&utm_source=Exinfluencer&utm_content=000026UJ&utm_term=10006555&utm_id=NA-SkillsNetwork-Channel-SkillsNetworkCoursesIBMML0187ENSkillsNetwork31430127-2021-01-01) for plotting.\n*   [`seaborn`](https://seaborn.pydata.org/?utm_medium=Exinfluencer&utm_source=Exinfluencer&utm_content=000026UJ&utm_term=10006555&utm_id=NA-SkillsNetwork-Channel-SkillsNetworkCoursesIBMML0187ENSkillsNetwork31430127-2021-01-01) for plotting.\n*  [`Folium`](https://python-visualization.github.io/folium/?utm_medium=Exinfluencer&utm_source=Exinfluencer&utm_content=000026UJ&utm_term=10006555&utm_id=NA-SkillsNetwork-Channel-SkillsNetworkCoursesIBMML0187ENSkillsNetwork31430127-2021-01-01) for plotting.\n",
      "metadata": {}
    },
    {
      "cell_type": "markdown",
      "source": "### Installing Required Libraries\n\nThe following required libraries are pre-installed in the Skills Network Labs environment. However, if you run these notebook commands in a different Jupyter environment (e.g. Watson Studio or Ananconda), you will need to install these libraries by removing the `#` sign before `%pip` in the code cell below.\n",
      "metadata": {}
    },
    {
      "cell_type": "code",
      "source": "# All Libraries required for this lab are listed below. The libraries pre-installed on Skills Network Labs are commented.\n# %pip install -qy pandas==1.3.4 numpy==1.21.4 matplotlib==3.5.0 seaborn folium\n# Note: If your environment doesn't support \"%pip install\", use \"!mamba install\"",
      "metadata": {},
      "execution_count": null,
      "outputs": []
    },
    {
      "cell_type": "code",
      "source": "%pip install seaborn\n%pip install folium",
      "metadata": {
        "trusted": true
      },
      "execution_count": 1,
      "outputs": []
    },
    {
      "cell_type": "markdown",
      "source": "### Importing Required Libraries\n\n_We recommend you import all required libraries in one place (here):_\n",
      "metadata": {}
    },
    {
      "cell_type": "code",
      "source": "import numpy as np\nimport pandas as pd\n%matplotlib inline\nimport matplotlib as mpl\nimport matplotlib.pyplot as plt\nimport seaborn as sns\nimport folium",
      "metadata": {
        "trusted": true
      },
      "execution_count": 2,
      "outputs": []
    },
    {
      "cell_type": "markdown",
      "source": "\n\n<details><summary>Click here for a hint</summary>\n\n<p>\nYou will require:-\n<br>Numpy for many scientific computing in Python\n<br>Pandas for creating and working on dataframe, also for plotting directly on dataframe/series\n<br>The inline backend to generate the plots within the browser [%matplotlib inline]\n<br>Matplotlib and its pyplot pacakge for plotting\n<br>Seaborn for plotting\n</details>\n\n\n",
      "metadata": {}
    },
    {
      "cell_type": "markdown",
      "source": "\n<details><summary>Click here for python solution</summary>\n\n```python\n    #Import Primary Modules:\n    import numpy as np\n    import pandas as pd\n    %matplotlib inline\n    import matplotlib as mpl\n    import matplotlib.pyplot as plt\n    import seaborn as sns\n    import folium\n```\n\n</details>\n",
      "metadata": {}
    },
    {
      "cell_type": "markdown",
      "source": "---\n",
      "metadata": {}
    },
    {
      "cell_type": "markdown",
      "source": "# Scenario\n\nIn this assignment you will be tasked with creating plots which answer questions for analysing \"historical_automobile_sales\" data to understand the historical trends in automobile sales during recession periods.<br>\nrecession period 1 - year 1980 <br>\nrecession period 2 - year 1981 to 1982<br>\nrecession period 3 - year 1991<br>\nrecession period 4 - year 2000 to 2001<br>\nrecession period 5 - year end 2007 to mid 2009<br>\nrecession period 6 - year 2020 -Feb to April (Covid-19 Impact)<br>\n\n# Data Description\n\nThe dataset used for this visualization assignment contains *historical_automobile_sales* data representing automobile sales and related variables during recession and non-recession period. \n\nThe dataset includes the following variables:\n<br>1. Date: The date of the observation.\n<br>2. Recession: A binary variable indicating recession perion; 1 means it was recession, 0 means it was normal.\n<br>3. Automobile_Sales: The number of vehicles sold during the period.\n<br>4. GDP: The per capita GDP value in USD.\n<br>5. Unemployment_Rate: The monthly unemployment rate.\n<br>6. Consumer_Confidence: A synthetic index representing consumer confidence, which can impact consumer spending and automobile purchases.\n<br>7. Seasonality_Weight: The weight representing the seasonality effect on automobile sales during the period.\n<br>8. Price: The average vehicle price during the period.\n<br>9. Advertising_Expenditure: The advertising expenditure of the company.\n<br>10.Vehicle_Type: The type of vehicles sold; Supperminicar, Smallfamiliycar,                 Mediumfamilycar, Executivecar, Sports.\n<br>11.Competition: The measure of competition in the market, such as the number of competitors or market share of major manufacturers.\n<br>12.Month: Month of the observation extracted from Date..\n<br>13.Year: Year of the observation extracted from Date.\n<br>\nBy examining various factors mentioned above from the dataset, you aim to gain insights into how recessions impacted automobile sales for your company.\n",
      "metadata": {}
    },
    {
      "cell_type": "markdown",
      "source": "---\n",
      "metadata": {}
    },
    {
      "cell_type": "markdown",
      "source": "# Importing Data\n",
      "metadata": {}
    },
    {
      "cell_type": "markdown",
      "source": "#### For your convenience, we have already written code to import the data below.\n",
      "metadata": {}
    },
    {
      "cell_type": "code",
      "source": "from js import fetch\nimport io\n\nURL = \"https://cf-courses-data.s3.us.cloud-object-storage.appdomain.cloud/IBMDeveloperSkillsNetwork-DV0101EN-SkillsNetwork/Data%20Files/historical_automobile_sales.csv\"\nresp = await fetch(URL)\ntext = io.BytesIO((await resp.arrayBuffer()).to_py())\nimport pandas as pd\ndf = pd.read_csv(text)\nprint('Data downloaded and read into a dataframe!')",
      "metadata": {
        "trusted": true
      },
      "execution_count": 3,
      "outputs": [
        {
          "name": "stdout",
          "text": "Data downloaded and read into a dataframe!\n",
          "output_type": "stream"
        }
      ]
    },
    {
      "cell_type": "code",
      "source": "df.describe()",
      "metadata": {
        "trusted": true
      },
      "execution_count": 4,
      "outputs": [
        {
          "execution_count": 4,
          "output_type": "execute_result",
          "data": {
            "text/plain": "              Year   Recession  Consumer_Confidence  Seasonality_Weight  \\\ncount   528.000000  528.000000           528.000000          528.000000   \nmean   2001.500000    0.214015           101.140170            0.575795   \nstd      12.710467    0.410526            10.601154            0.454477   \nmin    1980.000000    0.000000            73.900000            0.000000   \n25%    1990.750000    0.000000            94.035000            0.250000   \n50%    2001.500000    0.000000           100.740000            0.500000   \n75%    2012.250000    0.000000           108.240000            0.750000   \nmax    2023.000000    1.000000           131.670000            1.500000   \n\n              Price  Advertising_Expenditure  Competition         GDP  \\\ncount    528.000000               528.000000   528.000000  528.000000   \nmean   24964.991956              3067.456439     6.064394   40.073903   \nstd     4888.073433              1139.564637     1.968350   16.249714   \nmin     8793.663000              1009.000000     3.000000   12.508000   \n25%    21453.300500              2083.500000     4.000000   27.237500   \n50%    25038.691500              3072.000000     6.000000   39.214500   \n75%    28131.684750              4067.250000     8.000000   53.506500   \nmax    44263.657000              4983.000000     9.000000   70.374000   \n\n       Growth_Rate  unemployment_rate  Automobile_Sales  \ncount   528.000000         528.000000        528.000000  \nmean     -0.242001           2.453977       2352.718068  \nstd       0.861268           1.119019       1645.321284  \nmin      -4.227601           1.000000        102.000000  \n25%      -0.574049           1.600000        793.950000  \n50%      -0.013162           2.300000       2182.600000  \n75%       0.388932           2.900000       3614.800000  \nmax       0.815074           6.000000      21147.000000  ",
            "text/html": "<div>\n<style scoped>\n    .dataframe tbody tr th:only-of-type {\n        vertical-align: middle;\n    }\n\n    .dataframe tbody tr th {\n        vertical-align: top;\n    }\n\n    .dataframe thead th {\n        text-align: right;\n    }\n</style>\n<table border=\"1\" class=\"dataframe\">\n  <thead>\n    <tr style=\"text-align: right;\">\n      <th></th>\n      <th>Year</th>\n      <th>Recession</th>\n      <th>Consumer_Confidence</th>\n      <th>Seasonality_Weight</th>\n      <th>Price</th>\n      <th>Advertising_Expenditure</th>\n      <th>Competition</th>\n      <th>GDP</th>\n      <th>Growth_Rate</th>\n      <th>unemployment_rate</th>\n      <th>Automobile_Sales</th>\n    </tr>\n  </thead>\n  <tbody>\n    <tr>\n      <th>count</th>\n      <td>528.000000</td>\n      <td>528.000000</td>\n      <td>528.000000</td>\n      <td>528.000000</td>\n      <td>528.000000</td>\n      <td>528.000000</td>\n      <td>528.000000</td>\n      <td>528.000000</td>\n      <td>528.000000</td>\n      <td>528.000000</td>\n      <td>528.000000</td>\n    </tr>\n    <tr>\n      <th>mean</th>\n      <td>2001.500000</td>\n      <td>0.214015</td>\n      <td>101.140170</td>\n      <td>0.575795</td>\n      <td>24964.991956</td>\n      <td>3067.456439</td>\n      <td>6.064394</td>\n      <td>40.073903</td>\n      <td>-0.242001</td>\n      <td>2.453977</td>\n      <td>2352.718068</td>\n    </tr>\n    <tr>\n      <th>std</th>\n      <td>12.710467</td>\n      <td>0.410526</td>\n      <td>10.601154</td>\n      <td>0.454477</td>\n      <td>4888.073433</td>\n      <td>1139.564637</td>\n      <td>1.968350</td>\n      <td>16.249714</td>\n      <td>0.861268</td>\n      <td>1.119019</td>\n      <td>1645.321284</td>\n    </tr>\n    <tr>\n      <th>min</th>\n      <td>1980.000000</td>\n      <td>0.000000</td>\n      <td>73.900000</td>\n      <td>0.000000</td>\n      <td>8793.663000</td>\n      <td>1009.000000</td>\n      <td>3.000000</td>\n      <td>12.508000</td>\n      <td>-4.227601</td>\n      <td>1.000000</td>\n      <td>102.000000</td>\n    </tr>\n    <tr>\n      <th>25%</th>\n      <td>1990.750000</td>\n      <td>0.000000</td>\n      <td>94.035000</td>\n      <td>0.250000</td>\n      <td>21453.300500</td>\n      <td>2083.500000</td>\n      <td>4.000000</td>\n      <td>27.237500</td>\n      <td>-0.574049</td>\n      <td>1.600000</td>\n      <td>793.950000</td>\n    </tr>\n    <tr>\n      <th>50%</th>\n      <td>2001.500000</td>\n      <td>0.000000</td>\n      <td>100.740000</td>\n      <td>0.500000</td>\n      <td>25038.691500</td>\n      <td>3072.000000</td>\n      <td>6.000000</td>\n      <td>39.214500</td>\n      <td>-0.013162</td>\n      <td>2.300000</td>\n      <td>2182.600000</td>\n    </tr>\n    <tr>\n      <th>75%</th>\n      <td>2012.250000</td>\n      <td>0.000000</td>\n      <td>108.240000</td>\n      <td>0.750000</td>\n      <td>28131.684750</td>\n      <td>4067.250000</td>\n      <td>8.000000</td>\n      <td>53.506500</td>\n      <td>0.388932</td>\n      <td>2.900000</td>\n      <td>3614.800000</td>\n    </tr>\n    <tr>\n      <th>max</th>\n      <td>2023.000000</td>\n      <td>1.000000</td>\n      <td>131.670000</td>\n      <td>1.500000</td>\n      <td>44263.657000</td>\n      <td>4983.000000</td>\n      <td>9.000000</td>\n      <td>70.374000</td>\n      <td>0.815074</td>\n      <td>6.000000</td>\n      <td>21147.000000</td>\n    </tr>\n  </tbody>\n</table>\n</div>"
          },
          "metadata": {}
        }
      ]
    },
    {
      "cell_type": "code",
      "source": "df.columns",
      "metadata": {
        "trusted": true
      },
      "execution_count": 5,
      "outputs": [
        {
          "execution_count": 5,
          "output_type": "execute_result",
          "data": {
            "text/plain": "Index(['Date', 'Year', 'Month', 'Recession', 'Consumer_Confidence',\n       'Seasonality_Weight', 'Price', 'Advertising_Expenditure', 'Competition',\n       'GDP', 'Growth_Rate', 'unemployment_rate', 'Automobile_Sales',\n       'Vehicle_Type', 'City'],\n      dtype='object')"
          },
          "metadata": {}
        }
      ]
    },
    {
      "cell_type": "markdown",
      "source": "---\n",
      "metadata": {}
    },
    {
      "cell_type": "markdown",
      "source": "# Creating Visualizations for Data Analysis\n",
      "metadata": {}
    },
    {
      "cell_type": "markdown",
      "source": "### TASK 1.1: Develop a *Line chart* using the functionality of pandas to show how automobile sales fluctuate from year to year\n",
      "metadata": {}
    },
    {
      "cell_type": "markdown",
      "source": "<details><summary>Click here for a hint</summary>\n\n<p>\nYou will require:-\n<br>to group the year and calculate the average on the 'Automobile Sales', as the data has years and months column\n<br>make use of .plot() with kind = 'line'\n<br>donot forget to include labels and title\n</details>\n",
      "metadata": {}
    },
    {
      "cell_type": "code",
      "source": "%matplotlib inline\ndf_line = df.groupby(df['Year'])['Automobile_Sales'].mean()\nplt.figure(figsize=(10,6))\ndf_line.plot(kind=\"line\")\nplt.xlabel('Year')\nplt.ylabel('Sales Volume')\nplt.title('Automobile Sales over Time')\n ",
      "metadata": {
        "trusted": true
      },
      "execution_count": 13,
      "outputs": [
        {
          "execution_count": 13,
          "output_type": "execute_result",
          "data": {
            "text/plain": "Text(0.5, 1.0, 'Automobile Sales over Time')"
          },
          "metadata": {}
        },
        {
          "output_type": "display_data",
          "data": {
            "text/plain": "<Figure size 1000x600 with 1 Axes>",
            "image/png": "[encoded data removed]"
          },
          "metadata": {}
        }
      ]
    },
    {
      "cell_type": "markdown",
      "source": "<details><summary>Click here for a solution template</summary>\n\n```python\n    #create data for plotting\n    df_line = df.groupby(df['Year'])['Automobile_Sales'].mean()\n    #create figure\n    plt.figure(figsize=(10, 6))\n    df_line.plot(kind = 'line')\n    plt.xlabel('Year')\n    plt.ylabel('Sales Volume')\n    plt.title('Automobile Sales over Time')\n    plt.show()\n```\n</details>\n",
      "metadata": {}
    },
    {
      "cell_type": "markdown",
      "source": "### Include the following on the plot\nticks on x- axis with all the years, to identify the years of recession \n<br>annotation for at least two years of recession\n<br>Title as Automobile Sales during Recession\n<br> \n",
      "metadata": {}
    },
    {
      "cell_type": "markdown",
      "source": "<details><summary>Click here for a hint</summary>\n    <p>\n    You can create the list for the range 1980 till 2023 and pass that list to the plt.xticks function or you can directly pass the range to the function.\n    You might need to rotate the ticks to an angle so that they fit in well on the axis\n    You can include annotation with plt.text(x, y, 'text to display') \n    </p>\n</details>\n",
      "metadata": {}
    },
    {
      "cell_type": "code",
      "source": " plt.figure(figsize=(10, 6))\n    df_line = ...............\n    df_line.plot(kind = 'line')\n    plt.xticks(list(range(1980,2024)), rotation = 75)\n    plt.xlabel('..............')\n    plt.ylabel('............')\n    plt.title('...................')\n    plt.text(1982, 650, '1981-82 Recession')\n    plt.text(......, ..., '..............')\n    plt.legend()\n    plt.show()",
      "metadata": {
        "trusted": true
      },
      "execution_count": 14,
      "outputs": [
        {
          "ename": "<class 'IndentationError'>",
          "evalue": "unexpected indent (<ipython-input-14-acb867bd0c9c>, line 2)",
          "traceback": [
            "\u001b[0;36m  Cell \u001b[0;32mIn[14], line 2\u001b[0;36m\u001b[0m\n\u001b[0;31m    df_line = ...............\u001b[0m\n\u001b[0m    ^\u001b[0m\n\u001b[0;31mIndentationError\u001b[0m\u001b[0;31m:\u001b[0m unexpected indent\n"
          ],
          "output_type": "error"
        }
      ]
    },
    {
      "cell_type": "markdown",
      "source": "<details>\n    <summary>Click here for Solution template</summary>\n\n```python\n    plt.figure(figsize=(10, 6))\n    df_line = ...............\n    df_line.plot(kind = 'line')\n    plt.xticks(list(range(1980,2024)), rotation = 75)\n    plt.xlabel('..............')\n    plt.ylabel('............')\n    plt.title('...................')\n    plt.text(1982, 650, '1981-82 Recession')\n    plt.text(......, ..., '..............')\n    plt.legend()\n    plt.show()\n```\n\n</details>\n",
      "metadata": {}
    },
    {
      "cell_type": "markdown",
      "source": "<span style=\"color:red\">\nSave this plot as \"Line_Plot_1.png\"</span><br>\n*Hint: You can right lick on the plot and then click on \"Save image as\" option to save it on your local machine*\n",
      "metadata": {}
    },
    {
      "cell_type": "markdown",
      "source": "---\n",
      "metadata": {}
    },
    {
      "cell_type": "markdown",
      "source": "\n####  TASK 1.2: Plot different lines for categories of vehicle type and analyse the trend to answer the question Is there a noticeable difference in sales trends between different vehicle types during recession periods?\n",
      "metadata": {}
    },
    {
      "cell_type": "markdown",
      "source": "<details><summary>Click here for a hint</summary>\n\n    <p>\n    You will require:-\n    <br>create a separate dataframe where the column recession has a value of '1'\n    <br>to group the year, vehicle_type and calculate the average on the 'Automobile Sales'\n    <br>one way is to -\n    <br>use as_index as false else you will endup with multiple-indexed datafame\n    <br>later set year as index and groupby vehicle over Sales and plot\n    <br>make use of .plot() with kind = 'line'\n    <br>do not forget to include labels and title\n</details>\n",
      "metadata": {}
    },
    {
      "cell_type": "code",
      "source": "",
      "metadata": {},
      "execution_count": null,
      "outputs": []
    },
    {
      "cell_type": "markdown",
      "source": "<details>\n    <summary>Click here for Solution template</summary>\n\n```python\n    df_Mline = df.groupby(['Year','Vehicle_Type'], as_index=False)['Automobile_Sales'].sum()\n    df_Mline.set_index('Year', inplace=True)\n    df_Mline = df_Mline.groupby(['Vehicle_Type'])['Automobile_Sales']\n    df_Mline.plot(kind='line')\n    plt.xlabel('..............')\n    plt.ylabel('............')\n    plt.title('Sales Trend Vehicle-wise during Recession')\n    plt.legend()\n    plt.show()\n\n```\n</details>\n",
      "metadata": {}
    },
    {
      "cell_type": "markdown",
      "source": "#### From the above plot, what insights have you gained on the sales of various vehicle types?<br> Type in your answer below:\n",
      "metadata": {}
    },
    {
      "cell_type": "markdown",
      "source": "",
      "metadata": {}
    },
    {
      "cell_type": "markdown",
      "source": "<details>\n    <summary>Inference</summary>\n<p>\nInference:\nFrom this plot, we can understand that during recession period, the sales for 'Sports type vehicles' declined because of the high cost of the vehicle.<br>while sales of the superminicar and smallfamilycar increased.<br><br>\n    </p>\n    </details>\n",
      "metadata": {}
    },
    {
      "cell_type": "markdown",
      "source": "<span style=\"color:red\">\nSave this plot as \"Line_Plot_2.png\"</span><br>\n*Hint: You can right lick on the plot and then click on \"Save image as\" option to save it on your local machine*\n",
      "metadata": {}
    },
    {
      "cell_type": "markdown",
      "source": "----\n",
      "metadata": {}
    },
    {
      "cell_type": "markdown",
      "source": "### TASK 1.3: Use the functionality of **Seaborn Library** to create a visualization to compare the sales trend per vehicle type for a recession period with a non-recession period.\n",
      "metadata": {}
    },
    {
      "cell_type": "markdown",
      "source": "<details><summary>Click here for a hint</summary>\n\n<p>\n     To visualize the average number of vehicles sold during recession and non-recession periods, you can use a bar chart\n        <br> You will need to group recession average Automobile_Sales and then plot it<br>\n    Make use of sns.barplot(x=x,y=y, data = df)</p>\n</details>\n",
      "metadata": {}
    },
    {
      "cell_type": "code",
      "source": "",
      "metadata": {},
      "execution_count": null,
      "outputs": []
    },
    {
      "cell_type": "markdown",
      "source": "<details>\n    <summary>Click here for Solution template</summary>\n\n```python\n    new_df = df.groupby('Recession')['Automobile_Sales'].mean().reset_index()\n\n    # Create the bar chart using seaborn\n    plt.figure(figsize=(.........., ............)\n    sns.barplot(x='Recession', y='Automobile_Sales', hue='Recession',  data=new_df)\n    plt.xlabel('............')\n    plt.ylabel('...............')\n    plt.title('Average Automobile Sales during Recession and Non-Recession')\n    plt.xticks(ticks=[0, 1], labels=['Non-Recession', 'Recession'])\n    plt.show()\n```\n\n</details>\n",
      "metadata": {}
    },
    {
      "cell_type": "markdown",
      "source": "### Now you want to compare the sales of different vehicle types during a recession and a non-recession period\n<br>We recommend that you use the functionality of **Seaborn Library** to create this visualization\n",
      "metadata": {}
    },
    {
      "cell_type": "markdown",
      "source": "<details><summary>Click here for a hint</summary>\n\n<p>\n     To visualize sales of different vehicles during recession and non-recession periods, you can use a bar chart\n        <br> You will need to group Recession, Vehicle_Type for average Automobile_Sales and then plot it<br>\n    Make use of sns.barplot(x=x,y=y, data = df)</p>\n</details>\n",
      "metadata": {}
    },
    {
      "cell_type": "code",
      "source": "\n",
      "metadata": {},
      "execution_count": null,
      "outputs": []
    },
    {
      "cell_type": "markdown",
      "source": "<details>\n<summary>Click here for Solution template</summary>\n\n```python\n   # Filter the data for recessionary periods\n    recession_data = df[df['Recession'] == 1]\n\n    dd=df.groupby(['Recession','Vehicle_Type'])['Automobile_Sales'].mean().reset_index()\n\n    # Calculate the total sales volume by vehicle type during recessions\n    #sales_by_vehicle_type = recession_data.groupby('Vehicle_Type')['Automobile_Sales'].sum().reset_index()\n\n    # Create the grouped bar chart using seaborn\n    plt.figure(figsize=(10, 6))\n    sns.barplot(x='Recession', y='Automobile_Sales', hue='Vehicle_Type', data=dd)\n    plt.xticks(ticks=[0, 1], labels=['Non-Recession', 'Recession'])\n    plt.xlabel('Period')\n    plt.ylabel('Average Sales')\n    plt.title('Vehicle-Wise Sales during Recession and Non-Recession Period')\n\n    plt.show()\n\n```\n</details>\n",
      "metadata": {}
    },
    {
      "cell_type": "markdown",
      "source": "### From the above chart what insights have you gained on the overall sales of automobiles during recession? <br> Type your answer below:-\n",
      "metadata": {}
    },
    {
      "cell_type": "markdown",
      "source": "",
      "metadata": {}
    },
    {
      "cell_type": "markdown",
      "source": "<details>\n<summary>Inference</summary>\n\nFrom this plot, we can understand that there is a drastic decline in the overall sales of the automobiles during recession.<br>However, the most affected type of vehicle is executivecar and sports<br><br>\n</details>\n",
      "metadata": {}
    },
    {
      "cell_type": "markdown",
      "source": "<span style=\"color:red\">\nSave this plot as \"Bar_Chart.png\"</span><br>\n*Hint: You can right lick on the plot and then click on \"Save image as\" option to save it on your local machine*\n",
      "metadata": {}
    },
    {
      "cell_type": "markdown",
      "source": "---\n",
      "metadata": {}
    },
    {
      "cell_type": "markdown",
      "source": "### TASK 1.4: Use sub plotting to compare the variations in GDP during recession and non-recession period by developing line plots for each period.\n<br>Now, you want to find more insights from the data to understand the reason. <br>Plot a two line charts using subplotting to answer:-\n#### How did the GDP vary over time during recession and non-recession periods? \n<br>Make use of <u>add_subplot()</u> from Matplotlib for this comparision.\n",
      "metadata": {}
    },
    {
      "cell_type": "code",
      "source": "",
      "metadata": {},
      "execution_count": null,
      "outputs": []
    },
    {
      "cell_type": "markdown",
      "source": "<details>\n<summary>Click here for Solution template</summary>\n\n```python\n    #Create dataframes for recession and non-recession period\n    rec_data = df[df['Recession'] == 1]\n    non_rec_data = df[df['Recession'] == 0]\n    \n    #Figure\n    fig=plt.figure(figsize=(12, 6))\n    \n    #Create different axes for subploting\n    ax0 = fig.add_subplot(1, 2, 1) # add subplot 1 (1 row, 2 columns, first plot)\n    ax1 = fig.add_subplot(... ,... ,... ) # add subplot 2 (1 row, 2 columns, second plot). \n    \n    #plt.subplot(1, 2, 1)\n    sns.lineplot(x='Year', y='GDP', data=rec_data, label='Recession', ax=ax0)\n    ax0.set_xlabel('Year')\n    ax0.set_ylabel('GDP')\n    ax0.set_title('GDP Variation during Recession Period')\n    \n    #plt.subplot(1, 2, 2)\n    sns.lineplot(x='......', y='......', data=........, label='.........',ax=...)\n    ax1.set_xlabel('.....')\n    ax1.set_ylabel('.......')\n    ax1.set_title('..........')\n    \n    plt.tight_layout()\n    plt.show()\n\n   #------------------------------------------------Alternatively--------------\n   #Using subplot()\n    plt.figure(figsize=(............, ..........))\n    \n    #subplot 1\n    plt.subplot(1, 2, 1)\n    sns.lineplot(x='.........', y='......', data=.........., label='......')\n    plt.xlabel('.......')\n    plt.ylabel('..........')\n    plt.legend()\n    #subplot 1\n    plt.subplot(1, 2, 2)\n    sns.lineplot(x='.........', y='......', data=.........., label='......')\n    plt.xlabel('.......')\n    plt.ylabel('..........')\n    plt.legend()\n    \n    plt.tight_layout()\n    plt.show()\n```\n</details>\n",
      "metadata": {}
    },
    {
      "cell_type": "markdown",
      "source": "### Inference\nFrom this plot, it is evident that during recession, the GDP of the country was in a low range, might have afected the overall sales of the company<br><br>\n<span style=\"color:red\">\nSave this plot as \"Subplot.png\"</span><br>\n*Hint: You can right lick on the plot and then click on \"Save image as\" option to save it on your local machine*\n",
      "metadata": {}
    },
    {
      "cell_type": "markdown",
      "source": "---\n",
      "metadata": {}
    },
    {
      "cell_type": "markdown",
      "source": "### TASK 1.5: Develop a Bubble plot for displaying the impact of seasonality on Automobile Sales.\n<br>How has seasonality impacted the sales, in which months the sales were high or low? Check it for non-recession years to understand the trend\n\n##### Develop a Bubble plot for displaying Automobile Sales for every month and use Seasonality Weight for representing the size of each bubble<br>\nTitle this plot as 'Seasonality impact on Automobile Sales'\n",
      "metadata": {}
    },
    {
      "cell_type": "markdown",
      "source": "<details><summary>Click here for a hint</summary>\n\n<p>\n     You can create Bubble Chart by calling the scatter()\n        <br>Pass the 'Month' and 'Automobile_Sales' to the functions as x and y and then use Seasonality weight for size parameter</p>\n</details>\n",
      "metadata": {}
    },
    {
      "cell_type": "code",
      "source": "",
      "metadata": {},
      "execution_count": null,
      "outputs": []
    },
    {
      "cell_type": "markdown",
      "source": "<details>\n<summary>Click here for Solution template</summary>\n\n```python\n    non_rec_data = df[df['Recession'] == 0]\n    \n    size=non_rec_data['Seasonality_Weight'] #for bubble effect\n    \n    sns.scatterplot(data=non_rec_data, x='....', y='........', size=size)\n    \n    #you can further include hue='Seasonality_Weight', legend=False)\n\n    plt.xlabel('Month')\n    plt.ylabel('Automobile_Sales')\n    plt.title('Seasonality impact on Automobile Sales')\n\n    plt.show()\n\n```\n</details>\n",
      "metadata": {}
    },
    {
      "cell_type": "markdown",
      "source": "### Inference\nFrom this plot, it is evident that seasonality has not affected on the overall sales. However, there is a drastic raise in sales in the month of April<br><br>\n<span style=\"color:red\">\nSave this plot as \"Bubble.png\"</span><br>\n*Hint: You can right lick on the plot and then click on \"Save image as\" option to save it on your local machine*\n",
      "metadata": {}
    },
    {
      "cell_type": "markdown",
      "source": "---\n",
      "metadata": {}
    },
    {
      "cell_type": "markdown",
      "source": " ### TASK 1.6: Use the functionality of Matplotlib to develop a scatter plot to identify the correlation between average vehicle price relate to the sales volume during recessions.\n #### From the data, develop a scatter plot to identify if there a correlation between consumer confidence and automobile sales during recession period? \n <br> Title this plot as 'Consumer Confidence and Automobile Sales during Recessions'\n",
      "metadata": {}
    },
    {
      "cell_type": "markdown",
      "source": "<details><summary>Click here for a hint</summary>\n\n<p>\n     You can create dataframe where recession is '1'.\n        <br>Pass the 'Consumer_Confidence' and 'Automobile_Sales' to the plt.scatter()</p>\n</details>\n",
      "metadata": {}
    },
    {
      "cell_type": "code",
      "source": "",
      "metadata": {},
      "execution_count": null,
      "outputs": []
    },
    {
      "cell_type": "markdown",
      "source": "<details>\n<summary>Click here for Solution template</summary>\n\n```python\n    #Create dataframes for recession and non-recession period\n    rec_data = df[df['Recession'] == 1]\n    plt.scatter(recession_data['Consumer_Confidence'], rec_data['Automobile_Sales'])\n    \n    plt.xlabel('.....')\n    plt.ylabel('.......')\n    plt.title('..........')\n    plt.show()\n\n```\n</details>\n",
      "metadata": {}
    },
    {
      "cell_type": "markdown",
      "source": "\n ### How does the average vehicle price relate to the sales volume during recessions?\n <br> Plot another scatter plot and title it as 'Relationship between Average Vehicle Price and Sales during Recessions'\n",
      "metadata": {}
    },
    {
      "cell_type": "code",
      "source": "",
      "metadata": {},
      "execution_count": null,
      "outputs": []
    },
    {
      "cell_type": "markdown",
      "source": "<details>\n<summary>Click here for Solution template</summary>\n\n```python\n    #Create dataframes for recession and non-recession period\n    rec_data = df[df['Recession'] == 1]\n    plt.scatter(recession_data['Price'], rec_data['Automobile_Sales'])\n    \n    plt.xlabel('.....')\n    plt.ylabel('.......')\n    plt.title('..........')\n    plt.show()\n\n```\n</details>\n",
      "metadata": {}
    },
    {
      "cell_type": "markdown",
      "source": "### Inference\nThere is not much relation!<br><br>\n<span style=\"color:red\">\nSave this plot as \"Scatter.png\"</span><br>\n*Hint: You can right lick on the plot and then click on \"Save image as\" option to save it on your local machine*\n",
      "metadata": {}
    },
    {
      "cell_type": "markdown",
      "source": "----\n",
      "metadata": {}
    },
    {
      "cell_type": "markdown",
      "source": " ### TASK 1.7: Create a pie chart to display the portion of advertising expenditure of XYZAutomotives during recession and non-recession periods.\n <br>How did the advertising expenditure of XYZAutomotives change during recession and non-recession periods? \n",
      "metadata": {}
    },
    {
      "cell_type": "markdown",
      "source": "<details><summary>Click here for a hint</summary>\n\n<p>\n     You can create two dataframe for recession and nonreccession period.\n    <br> Calculate the sum of Advertising_Expenditure for both dataframes\n    <br> Pass these total values to plt.pie(). May include labels as ['Recession', 'Non-Recession']\n        <br>Feel Free to customie the pie further\n    <br>title this plot as  - Advertising Expenditure during Recession and Non-Recession Periods</p>\n</details>\n",
      "metadata": {}
    },
    {
      "cell_type": "code",
      "source": "",
      "metadata": {},
      "execution_count": null,
      "outputs": []
    },
    {
      "cell_type": "markdown",
      "source": "<details>\n<summary>Click here for Solution template</summary>\n\n```python\n    # Filter the data \n    Rdata = df[df['Recession'] == 1]\n    NRdata = df[df['Recession'] == 0]\n\n    # Calculate the total advertising expenditure for both periods\n    RAtotal = Rdata['Advertising_Expenditure'].sum()\n    NRAtotal = NRdata['Advertising_Expenditure'].sum()\n\n    # Create a pie chart for the advertising expenditure \n    plt.figure(figsize=(8, 6))\n\n    labels = ['Recession', 'Non-Recession']\n    sizes = [RAtotal, NRtotal]\n    plt.pie(sizes, labels=labels, autopct='%1.1f%%', startangle=90)\n\n    plt.title('Advertising Expenditure during Recession and Non-Recession Periods')\n\n    plt.show()\n\n\n```\n</details>\n",
      "metadata": {}
    },
    {
      "cell_type": "markdown",
      "source": "#### From the above plot, what insights do you find on the advertisement expenditure during recession and non recession periods?<br> Type your answer below:-\n",
      "metadata": {}
    },
    {
      "cell_type": "markdown",
      "source": "",
      "metadata": {}
    },
    {
      "cell_type": "markdown",
      "source": "<details><summary>Inference</summary>\nIt seems ABCAutomotives has been spending much more on the advertisements during non-recession periods as compared to during recession times. Fair enough!<br><br></details>\n",
      "metadata": {}
    },
    {
      "cell_type": "markdown",
      "source": "<span style=\"color:red\">\nSave this plot as \"Pie_1.png\"</span><br>\n*Hint: You can right lick on the plot and then click on \"Save image as\" option to save it on your local machine*\n",
      "metadata": {}
    },
    {
      "cell_type": "markdown",
      "source": "---\n",
      "metadata": {}
    },
    {
      "cell_type": "markdown",
      "source": "### TASK 1.8: Develop a pie chart to display the total Advertisement expenditure for each vehicle type during recession period.<br>\nCan we observe the share of each vehicle type in total sales during recessions? \n#### Create another pie plot to display the total advertisement expenditure for each vehicle type\n",
      "metadata": {}
    },
    {
      "cell_type": "markdown",
      "source": "<details><summary>Click here for a hint</summary>\n\n<p>\n     You will be required to group vehicle type for sum of advertisement expenditure.\n    <br> the plot a pie with the data, May include relevant labels\n    <br>title this plot as  - Share of Each Vehicle Type in Total Sales during Recessions</p>\n</details>\n",
      "metadata": {}
    },
    {
      "cell_type": "code",
      "source": "",
      "metadata": {},
      "execution_count": null,
      "outputs": []
    },
    {
      "cell_type": "markdown",
      "source": "<details>\n    <summary>Click here for Solution template</summary>\n\n```python\n    # Filter the data \n    Rdata = df[df['Recession'] == 1]\n\n    # Calculate the sales volume by vehicle type during recessions\n    VTsales = Rdata.groupby('Vehicle_Type')['Advertising_Expenditure'].sum()\n\n    # Create a pie chart for the share of each vehicle type in total sales during recessions\n    plt.figure(figsize=(8, 6))\n\n    labels = VTsales.index\n    sizes = VTsales.values\n    plt.pie(sizes, labels=labels, autopct='%1.1f%%', startangle=90)\n\n    plt.title('Share of Each Vehicle Type in Total Sales during Recessions')\n\n    plt.show()\n```\n    </details>\n",
      "metadata": {}
    },
    {
      "cell_type": "markdown",
      "source": "### Inference\nDuring recession the advertisements were mostly focued on low price range vehicle. A wise decision!<br><br>\n<span style=\"color:red\">\nSave this plot as \"Pie_2.png\"</span><br>\n*Hint: You can right lick on the plot and then click on \"Save image as\" option to save it on your local machine*\n",
      "metadata": {}
    },
    {
      "cell_type": "markdown",
      "source": "----\n",
      "metadata": {}
    },
    {
      "cell_type": "markdown",
      "source": " ### TASK 1.9: Develop a countplot to analyse the effect of the unemployment rate on vehicle type and sales during the Recession Period.\n <br>Analyze the effect of the unemployment rate on vehicle type and sales during the Recession Period\n #### You can create a countplot and title the plot as 'Effect of Unemployment Rate on Vehicle Type and Sales'\n",
      "metadata": {}
    },
    {
      "cell_type": "markdown",
      "source": "<details><summary>Click here for a hint</summary>\n\n<p>\n    Filter out the data for recession period<br>\n     Make use of countplot() from seaborn and pass the relavent data</p>\n</details>\n",
      "metadata": {}
    },
    {
      "cell_type": "code",
      "source": "",
      "metadata": {},
      "execution_count": null,
      "outputs": []
    },
    {
      "cell_type": "markdown",
      "source": "<details>\n    <summary>Click here for Solution template</summary>\n\n```python\n    data= df[df['Recession'] == 1]\n    \n    plt.figure(figsize=(10, 6))\n    \n    sns.countplot(data=data, x='unemployment_rate', hue='Vehicle_Type')\n    \n    plt.xlabel('Unemployment Rate')\n    plt.ylabel('Count')\n    plt.title('Effect of Unemployment Rate on Vehicle Type and Sales')\n    plt.legend(loc='upper right')\n    plt.show()\n```\n\n</details>\n",
      "metadata": {}
    },
    {
      "cell_type": "markdown",
      "source": "#### From the above plot, what insights have you gained on the sales of superminicar, smallfamilycar, mediumminicar?<br> Type your answer below:-\n",
      "metadata": {}
    },
    {
      "cell_type": "markdown",
      "source": "",
      "metadata": {}
    },
    {
      "cell_type": "markdown",
      "source": "<details><summary>Inference</summary>\nDuring recession, buying pattern changed, the sales of low range vehicle like superminicar,smallfamilycar and Mediumminicar<br><br>\n</details>\n",
      "metadata": {}
    },
    {
      "cell_type": "markdown",
      "source": "<span style=\"color:red\">\nSave this plot as \"count_plot.png\"</span><br>\n*Hint: You can right lick on the plot and then click on \"Save image as\" option to save it on your local machine*\n",
      "metadata": {}
    },
    {
      "cell_type": "markdown",
      "source": "---\n",
      "metadata": {}
    },
    {
      "cell_type": "markdown",
      "source": "### OPTIONAL : TASK 1.10 Create a map on the hightest sales region/offices of the company during recession period\n",
      "metadata": {}
    },
    {
      "cell_type": "code",
      "source": "from pyodide.http import pyfetch\n\nasync def download(url, filename):\n    response = await pyfetch(url)\n    if response.status == 200:\n        with open(filename, \"wb\") as f:\n            f.write(await response.bytes())\n\npath = 'https://cf-courses-data.s3.us.cloud-object-storage.appdomain.cloud/IBMDeveloperSkillsNetwork-DV0101EN-SkillsNetwork/Data%20Files/us-states.json'\nawait download(path, \"us-states.json\")\n\nfilename = \"us-states.json\"",
      "metadata": {},
      "execution_count": null,
      "outputs": []
    },
    {
      "cell_type": "markdown",
      "source": "#### You found that the datset also contains the location/city for company offices. Now you want to show the recession impact on various offices/city sales by developing a choropleth\n",
      "metadata": {}
    },
    {
      "cell_type": "code",
      "source": "",
      "metadata": {},
      "execution_count": null,
      "outputs": []
    },
    {
      "cell_type": "markdown",
      "source": "<details><summary>Click for Solution</summary>\n    \n```python\n\n    # Filter the data for the recession period and specific cities\n    recession_data = data[data['Recession'] == 1]\n\n    # Calculate the total sales by city\n    sales_by_city = recession_data.groupby('City')['Automobile_Sales'].sum().reset_index()\n\n    # Create a base map centered on the United States\n    map1 = folium.Map(location=[37.0902, -95.7129], zoom_start=4)\n\n    # Create a choropleth layer using Folium\n    choropleth = folium.Choropleth(\n        geo_data= 'us-states.json',  # GeoJSON file with state boundaries\n        data=sales_by_city,\n        columns=['City', 'Automobile_Sales'],\n        key_on='feature.properties.name',\n        fill_color='YlOrRd',\n        fill_opacity=0.7,\n        line_opacity=0.2,\n        legend_name='Automobile Sales during Recession'\n    ).add_to(map1)\n\n\n    # Add tooltips to the choropleth layer\n    choropleth.geojson.add_child(\n        folium.features.GeoJsonTooltip(['name'], labels=True)\n    )\n\n    # Display the map\n    map1\n\n```\n</details>\n",
      "metadata": {}
    },
    {
      "cell_type": "markdown",
      "source": "# Congratulations! You have completed the lab\n",
      "metadata": {}
    },
    {
      "cell_type": "markdown",
      "source": "## Authors\n",
      "metadata": {}
    },
    {
      "cell_type": "markdown",
      "source": "[Dr. Pooja](author_link)\n",
      "metadata": {}
    },
    {
      "cell_type": "markdown",
      "source": "## Change Log\n",
      "metadata": {}
    },
    {
      "cell_type": "markdown",
      "source": "|Date (YYYY-MM-DD)|Version|Changed By|Change Description|\n|-|-|-|-|\n2023-06-17|0.2|Pooja|Initial Lab Creation|\n|2023-05-01|0.1|Shengkai|Create Lab Template|\n",
      "metadata": {}
    },
    {
      "cell_type": "markdown",
      "source": "Copyright © 2023 IBM Corporation. All rights reserved.\n",
      "metadata": {}
    }
  ]
}